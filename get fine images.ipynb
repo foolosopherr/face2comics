{
 "cells": [
  {
   "cell_type": "code",
   "execution_count": 1,
   "metadata": {},
   "outputs": [],
   "source": [
    "from PIL import Image\n",
    "import numpy as np"
   ]
  },
  {
   "cell_type": "code",
   "execution_count": 4,
   "metadata": {},
   "outputs": [],
   "source": [
    "def save_stacked_images(num):\n",
    "    images = [Image.open(f'content/evaluation/{num}/y_gen_{i}.png') for i in range(0, 50, 2)]\n",
    "    imgs_comb = np.vstack([np.hstack([i.resize((256, 256)) for i in images[n:n+5]]) for n in range(0, 25, 5)])\n",
    "    imgs_comb = Image.fromarray(imgs_comb)\n",
    "    imgs_comb.save(f'content/evaluation/{num}.png')"
   ]
  },
  {
   "cell_type": "code",
   "execution_count": 5,
   "metadata": {},
   "outputs": [],
   "source": [
    "for k in range(1, 6):\n",
    "    save_stacked_images(k)"
   ]
  },
  {
   "cell_type": "code",
   "execution_count": null,
   "metadata": {},
   "outputs": [],
   "source": []
  }
 ],
 "metadata": {
  "kernelspec": {
   "display_name": "Python 3.9.14 ('dl_env')",
   "language": "python",
   "name": "python3"
  },
  "language_info": {
   "codemirror_mode": {
    "name": "ipython",
    "version": 3
   },
   "file_extension": ".py",
   "mimetype": "text/x-python",
   "name": "python",
   "nbconvert_exporter": "python",
   "pygments_lexer": "ipython3",
   "version": "3.9.14"
  },
  "orig_nbformat": 4,
  "vscode": {
   "interpreter": {
    "hash": "9a261af9e6c60694f60d9874220819981afb5b89fa330f0fb12b845ff958be08"
   }
  }
 },
 "nbformat": 4,
 "nbformat_minor": 2
}
